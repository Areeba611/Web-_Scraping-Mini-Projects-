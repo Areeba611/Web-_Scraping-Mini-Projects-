{
 "cells": [
  {
   "cell_type": "code",
   "execution_count": null,
   "id": "7f98bc6d-5b7a-4216-bfab-de54605ccbad",
   "metadata": {},
   "outputs": [],
   "source": [
    "import requests\n",
    "from bs4 import BeautifulSoup\n",
    "import pandas as pd\n",
    "from datetime import datetime\n",
    "\n",
    "now = datetime.now()\n",
    "date_str = now.strftime(\"%d %B %Y, %I:%M %p\")\n",
    "\n",
    "#  Website to scrape\n",
    "url = \"https://www.forex.pk/open_market_rates.asp\"\n",
    "headers = {\"User-Agent\": \"Mozilla/5.0\"}\n",
    "\n",
    "response = requests.get(url, headers=headers)\n",
    "soup = BeautifulSoup(response.content, \"html.parser\")\n",
    "rows = soup.find_all(\"tr\")\n",
    "\n",
    "#  Target currencies\n",
    "target = [\"US Dollar\", \"Euro\", \"Saudi Riyal\"]\n",
    "currency_data = []\n",
    "\n",
    "#  Extract rates from table\n",
    "for row in rows:\n",
    "    cols = row.find_all(\"td\")\n",
    "    if len(cols) >= 3:\n",
    "        currency = cols[0].get_text(strip=True)\n",
    "        if currency in target:\n",
    "            buying = cols[1].get_text(strip=True)\n",
    "            selling = cols[2].get_text(strip=True)\n",
    "            currency_data.append({\n",
    "                \"Currency\": currency,\n",
    "                \"Buying (PKR)\": buying,\n",
    "                \"Selling (PKR)\": selling\n",
    "            })\n",
    "\n",
    "#  Save to CSV\n",
    "df = pd.DataFrame(currency_data)\n",
    "df.to_csv(\"currency_rates.csv\", index=False, encoding=\"utf-8\")\n",
    "\n",
    "print(\"\\n Welcome to Currency Tracker by Areeba!\")\n",
    "print(\" Date & Time:\", date_str)\n",
    "print(\" Source: Forex.pk - Open Market Rates\")\n",
    "print(\"━━━━━━━━━━━━━━━━━━━━━━━━━━━━━━━━━━━━━━━━━\")\n",
    "\n",
    "for entry in currency_data:\n",
    "    print(f\" {entry['Currency']}\")\n",
    "    print(f\"   Buying Rate : Rs. {entry['Buying (PKR)']}\")\n",
    "    print(f\"   Selling Rate: Rs. {entry['Selling (PKR)']}\\n\")\n",
    "\n",
    "print(\" All rates successfully saved in: currency_rates.csv\")\n",
    "print(\" You can now open the file and see all data neatly saved!\")\n",
    "print(\"━━━━━━━━━━━━━━━━━━━━━━━━━━━━━━━━━━━━━━━━━\")\n",
    "print(\" Thank you for using the tracker — keep learning, keep growing!\")\n"
   ]
  }
 ],
 "metadata": {
  "kernelspec": {
   "display_name": "Python 3 (ipykernel)",
   "language": "python",
   "name": "python3"
  },
  "language_info": {
   "codemirror_mode": {
    "name": "ipython",
    "version": 3
   },
   "file_extension": ".py",
   "mimetype": "text/x-python",
   "name": "python",
   "nbconvert_exporter": "python",
   "pygments_lexer": "ipython3",
   "version": "3.13.5"
  }
 },
 "nbformat": 4,
 "nbformat_minor": 5
}
